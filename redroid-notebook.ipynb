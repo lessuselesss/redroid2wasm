{
 "cells": [
  {
   "cell_type": "markdown",
   "metadata": {},
   "source": [
    "# ReDroid Setup Jupyter Notebook\n",
    "\n",
    "This notebook provides an interactive interface to set up and run ReDroid with Gapps, Magisk, and libndk support. It includes steps to install dependencies, pull the necessary Docker image, and run the container with appropriate configurations."
   ]
  },
  {
   "cell_type": "markdown",
   "metadata": {},
   "source": [
    "## 1. Install Dependencies\n",
    "\n",
    "Ensure that the following dependencies are installed:\n",
    "\n",
    "- **lzip**: A compression utility required for certain operations.\n",
    "- **Docker**: The container platform to run ReDroid.\n",
    "\n",
    "The following commands will install these dependencies:"
   ]
  },
  {
   "cell_type": "code",
   "metadata": {},
   "outputs": [],
   "source": [
    "# Update package lists and install lzip\n",
    "!sudo apt-get update && sudo apt-get install -y lzip\n",
    "\n",
    "# Install Docker\n",
    "!curl -fsSL https://get.docker.com -o get-docker.sh\n",
    "!sh get-docker.sh\n",
    "\n",
    "# Start Docker service\n",
    "!sudo systemctl start docker\n",
    "!sudo systemctl enable docker"
   ]
  },
  {
   "cell_type": "markdown",
   "metadata": {},
   "source": [
    "## 2. Pull the ReDroid Docker Image\n",
    "\n",
    "Pull the ReDroid Docker image with Gapps, NDK, Magisk, and Widevine support:"
   ]
  },
  {
   "cell_type": "code",
   "metadata": {},
   "outputs": [],
   "source": [
    "# Pull the ReDroid Docker image\n",
    "!sudo docker pull redroid/redroid:11.0.0-gapps-ndk-magisk-widevine"
   ]
  },
  {
   "cell_type": "markdown",
   "metadata": {},
   "source": [
    "## 3. Run the ReDroid Container\n",
    "\n",
    "Run the ReDroid container with the necessary configurations to support multiple CPU architectures and enable native bridge execution:"
   ]
  },
  {
   "cell_type": "code",
   "metadata": {},
   "outputs": [],
   "source": [
    "# Create a directory to mount as /data in the container\n",
    "!mkdir -p ~/redroid_data\n",
    "\n",
    "# Run the ReDroid container\n",
    "!sudo docker run -itd --rm --privileged \\\n",
    "    -v ~/redroid_data:/data \\\n",
    "    -p 5555:5555 \\\n",
    "    redroid/redroid:11.0.0-gapps-ndk-magisk-widevine \\\n",
    "    ro.product.cpu.abilist=x86_64,arm64-v8a,x86,armeabi-v7a,armeabi \\\n",
    "    ro.product.cpu.abilist64=x86_64,arm64-v8a \\\n",
    "    ro.product.cpu.abilist32=x86,armeabi-v7a,armeabi \\\n",
    "    ro.dalvik.vm.isa.arm=x86 \\\n",
    "    ro.dalvik.vm.isa.arm64=x86_64 \\\n",
    "    ro.enable.native.bridge.exec=1 \\\n",
    "    ro.dalvik.vm.native.bridge=libndk_translation.so \\\n",
    "    ro.ndk_translation.version=0.2.2"
   ]
  },
  {
   "cell_type": "markdown",
   "metadata": {},
   "source": [
    "## 4. Connect to the ReDroid Instance\n",
    "\n",
    "Use Android Debug Bridge (ADB) to connect to the running ReDroid instance:"
   ]
  },
  {
   "cell_type": "code",
   "metadata": {},
   "outputs": [],
   "source": [
    "# Install ADB if not already installed\n",
    "!sudo apt-get install -y adb\n",
    "\n",
    "# Connect to the ReDroid instance\n",
    "!adb connect localhost:5555\n",
    "\n",
    "# Verify the connection\n",
    "!adb devices"
   ]
  },
  {
   "cell_type": "markdown",
   "metadata": {},
   "source": [
    "## 5. Interact with ReDroid\n",
    "\n",
    "You can now interact with the ReDroid instance using ADB commands. For example, to install an APK:"
   ]
  },
  {
   "cell_type": "code",
   "metadata": {},
   "outputs": [],
   "source": [
    "# Install an APK\n",
    "!adb install path/to/your/app.apk"
   ]
  },
  {
   "cell_type": "markdown",
   "metadata": {},
   "source": [
    "## Notes\n",
    "\n",
    "- Ensure that your system supports virtualization and that Docker is properly configured.\n",
    "- The `~/redroid_data` directory on your host will be used to persist data from the ReDroid instance.\n",
    "- Adjust the `docker run` parameters as needed to fit your specific requirements."
   ]
  }
 ],
 "metadata": {
  "kernelspec": {
   "display_name": "Python 3",
   "language": "python",
   "name": "python3"
  },
  "language_info": {
   "codemirror_mode": {
    "name": "ipython",
    "version": 3
   },
   "file_extension": ".py",
   "mimetype": "text/x-python",
   "name": "python",
   "nbconvert_exporter": "python",
   "pygments_lexer": "ipython3",
   "version": "3.8.5"
  }
 },
 "nbformat": 4,
 "nbformat_minor": 4
}
